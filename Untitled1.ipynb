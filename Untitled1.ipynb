{
  "nbformat": 4,
  "nbformat_minor": 0,
  "metadata": {
    "colab": {
      "provenance": [],
      "gpuType": "T4",
      "authorship_tag": "ABX9TyPukRRKFlUg2mGkibhj60Yu",
      "include_colab_link": true
    },
    "kernelspec": {
      "name": "python3",
      "display_name": "Python 3"
    },
    "language_info": {
      "name": "python"
    },
    "accelerator": "GPU"
  },
  "cells": [
    {
      "cell_type": "markdown",
      "metadata": {
        "id": "view-in-github",
        "colab_type": "text"
      },
      "source": [
        "<a href=\"https://colab.research.google.com/github/Manuel-Falla/asistente/blob/main/Untitled1.ipynb\" target=\"_parent\"><img src=\"https://colab.research.google.com/assets/colab-badge.svg\" alt=\"Open In Colab\"/></a>"
      ]
    },
    {
      "cell_type": "code",
      "execution_count": null,
      "metadata": {
        "id": "15R-r1iyOp7k"
      },
      "outputs": [],
      "source": [
        "# Instalaciones necesarias\n",
        "\n",
        "!nvidia-smi\n",
        "!pip install deep-translator\n",
        "!pip install -q -U bitsandbytes loralib einops\n",
        "!pip install -q -U git+https://github.com/huggingface/transformers.git\n",
        "!pip install -q -U git+https://github.com/huggingface/peft.git\n",
        "!pip install -q -U git+https://github.com/huggingface/accelerate.git\n",
        "!pip install deep-translator\n",
        "!pip install googletrans==4.0.0-rc1\n",
        "from deep_translator import GoogleTranslator"
      ]
    },
    {
      "cell_type": "code",
      "source": [
        "# Se realiza traduccion de idioma de españoa a ingles y viceversa\n",
        "\n",
        "from transformers import AutoTokenizer, AutoModelForCausalLM\n",
        "import transformers\n",
        "import torch\n",
        "from googletrans import Translator\n",
        "\n",
        "model = \"tiiuae/falcon-7b-instruct\"\n",
        "\n",
        "tokenizer = AutoTokenizer.from_pretrained(model)\n",
        "pipeline = transformers.pipeline(\n",
        "    \"text-generation\",\n",
        "    model=model,\n",
        "    tokenizer=tokenizer,\n",
        "    torch_dtype=torch.bfloat16,\n",
        "    trust_remote_code=True,\n",
        "    device_map=\"auto\",\n",
        ")"
      ],
      "metadata": {
        "id": "HtCLy_ikSZWk"
      },
      "execution_count": null,
      "outputs": []
    },
    {
      "cell_type": "code",
      "source": [
        "# Función para devolver la respuesta del modelo LLM Falcon-7b\n",
        "\n",
        "def respuesta_chatbot(pregunta):\n",
        "  traductor = Translator()\n",
        "  pregunta_en = traductor.translate(pregunta).text\n",
        "\n",
        "  sequences = pipeline(\n",
        "    pregunta_en,\n",
        "    max_length=200,\n",
        "    do_sample=True,\n",
        "    top_k=10,\n",
        "    num_return_sequences=1,\n",
        "    eos_token_id=tokenizer.eos_token_id,\n",
        "  )\n",
        "\n",
        "  if sequences and 'generated_text' in sequences[0]:\n",
        "    respuesta = sequences[0]['generated_text']\n",
        "    respuesta_en = traductor.translate(respuesta, dest='es').text\n",
        "    respuesta_es = respuesta_en.replace(\"él\", \"tú\").replace(\"ella\", \"tú\")\n",
        "    respuesta_es = respuesta_es.replace(\"se\", \"tu\").replace(\"se\", \"tu\")\n",
        "    respuesta_es = respuesta_es.replace(\"sus\", \"tus\").replace(\"sus\", \"tus\")\n",
        "    respuesta_es = respuesta_es.replace(\"su\", \"tu\").replace(\"su\", \"tu\")\n",
        "    print(respuesta_es)\n",
        "  else:\n",
        "    print(\"No se pudo generar una respuesta coherente.\")\n",
        "\n",
        "# Pregunta\n",
        "\n",
        "pregunta = \"Como puedo cear una troncal en asterisk\"\n",
        "respuesta = respuesta_chatbot(pregunta)"
      ],
      "metadata": {
        "id": "ycG0GG_OSb9u"
      },
      "execution_count": null,
      "outputs": []
    }
  ]
}